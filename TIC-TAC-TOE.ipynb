{
 "cells": [
  {
   "cell_type": "code",
   "execution_count": null,
   "metadata": {},
   "outputs": [
    {
     "data": {
      "text/markdown": [
       "Tic-Tac-Toe Game: Designed By Rahul"
      ],
      "text/plain": [
       "<IPython.core.display.Markdown object>"
      ]
     },
     "metadata": {},
     "output_type": "display_data"
    },
    {
     "data": {
      "text/markdown": [
       "Player 1  --- Player 2 \n"
      ],
      "text/plain": [
       "<IPython.core.display.Markdown object>"
      ]
     },
     "metadata": {},
     "output_type": "display_data"
    },
    {
     "name": "stdout",
     "output_type": "stream",
     "text": [
      "\n",
      "\n",
      "Choose mark 'X' or 'O' for Player - 1O\n"
     ]
    },
    {
     "data": {
      "text/markdown": [
       " Let's Start "
      ],
      "text/plain": [
       "<IPython.core.display.Markdown object>"
      ]
     },
     "metadata": {},
     "output_type": "display_data"
    },
    {
     "name": "stdout",
     "output_type": "stream",
     "text": [
      "   |   |   \n",
      "___|___|___\n",
      "   |   |   \n",
      "___|___|___\n",
      "   |   |   \n",
      "   |   |   \n"
     ]
    },
    {
     "data": {
      "text/markdown": [
       "Player 1's  chance"
      ],
      "text/plain": [
       "<IPython.core.display.Markdown object>"
      ]
     },
     "metadata": {},
     "output_type": "display_data"
    },
    {
     "name": "stdout",
     "output_type": "stream",
     "text": [
      "Enter the position between [1-9] where you want to mark : 9\n",
      "   |   |   \n",
      "___|___|___\n",
      "   |   |   \n",
      "___|___|___\n",
      "   |   | O \n",
      "   |   |   \n"
     ]
    },
    {
     "data": {
      "text/markdown": [
       "Player 2's  chance"
      ],
      "text/plain": [
       "<IPython.core.display.Markdown object>"
      ]
     },
     "metadata": {},
     "output_type": "display_data"
    },
    {
     "name": "stdout",
     "output_type": "stream",
     "text": [
      "Enter the position between [1-9] where you want to mark : 8\n",
      "   |   |   \n",
      "___|___|___\n",
      "   |   |   \n",
      "___|___|___\n",
      "   | X | O \n",
      "   |   |   \n"
     ]
    },
    {
     "data": {
      "text/markdown": [
       "Player 1's  chance"
      ],
      "text/plain": [
       "<IPython.core.display.Markdown object>"
      ]
     },
     "metadata": {},
     "output_type": "display_data"
    },
    {
     "name": "stdout",
     "output_type": "stream",
     "text": [
      "Enter the position between [1-9] where you want to mark : 7\n",
      "   |   |   \n",
      "___|___|___\n",
      "   |   |   \n",
      "___|___|___\n",
      " O | X | O \n",
      "   |   |   \n"
     ]
    },
    {
     "data": {
      "text/markdown": [
       "Player 2's  chance"
      ],
      "text/plain": [
       "<IPython.core.display.Markdown object>"
      ]
     },
     "metadata": {},
     "output_type": "display_data"
    },
    {
     "name": "stdout",
     "output_type": "stream",
     "text": [
      "Enter the position between [1-9] where you want to mark : 6\n",
      "   |   |   \n",
      "___|___|___\n",
      "   |   | X \n",
      "___|___|___\n",
      " O | X | O \n",
      "   |   |   \n"
     ]
    },
    {
     "data": {
      "text/markdown": [
       "Player 1's  chance"
      ],
      "text/plain": [
       "<IPython.core.display.Markdown object>"
      ]
     },
     "metadata": {},
     "output_type": "display_data"
    },
    {
     "name": "stdout",
     "output_type": "stream",
     "text": [
      "Enter the position between [1-9] where you want to mark : 4\n",
      "   |   |   \n",
      "___|___|___\n",
      " O |   | X \n",
      "___|___|___\n",
      " O | X | O \n",
      "   |   |   \n"
     ]
    },
    {
     "data": {
      "text/markdown": [
       "Player 2's  chance"
      ],
      "text/plain": [
       "<IPython.core.display.Markdown object>"
      ]
     },
     "metadata": {},
     "output_type": "display_data"
    },
    {
     "name": "stdout",
     "output_type": "stream",
     "text": [
      "Enter the position between [1-9] where you want to mark : 5\n",
      "   |   |   \n",
      "___|___|___\n",
      " O | X | X \n",
      "___|___|___\n",
      " O | X | O \n",
      "   |   |   \n"
     ]
    },
    {
     "data": {
      "text/markdown": [
       "Player 1's  chance"
      ],
      "text/plain": [
       "<IPython.core.display.Markdown object>"
      ]
     },
     "metadata": {},
     "output_type": "display_data"
    },
    {
     "name": "stdout",
     "output_type": "stream",
     "text": [
      "Enter the position between [1-9] where you want to mark : 1\n",
      " O |   |   \n",
      "___|___|___\n",
      " O | X | X \n",
      "___|___|___\n",
      " O | X | O \n",
      "   |   |   \n"
     ]
    },
    {
     "data": {
      "text/markdown": [
       "**Player 1 Won**"
      ],
      "text/plain": [
       "<IPython.core.display.Markdown object>"
      ]
     },
     "metadata": {},
     "output_type": "display_data"
    },
    {
     "name": "stdout",
     "output_type": "stream",
     "text": [
      "\n"
     ]
    }
   ],
   "source": [
    "import os    \n",
    "import time    \n",
    "from IPython.display import Markdown, display\n",
    "\n",
    "def printmd(string):\n",
    "    display(Markdown(string))\n",
    "##Flags##\n",
    "board = [' ',' ',' ',' ',' ',' ',' ',' ',' ',' ']    \n",
    "player = 1        \n",
    "Win = 1    \n",
    "Draw = -1    \n",
    "Running = 0    \n",
    "Stop = 1    \n",
    "Game = Running    \n",
    "Mark = 'X'    \n",
    "play = 'Y'\n",
    "#Function initializes Board & game's status  \n",
    "def Ini():\n",
    "    global board\n",
    "    board = [' ',' ',' ',' ',' ',' ',' ',' ',' ',' ']    \n",
    "    global player \n",
    "    player = 1        \n",
    "    global Game\n",
    "    Game = Running\n",
    "    printmd(\" Let's Start \")\n",
    "        \n",
    "    \n",
    "   \n",
    "#Function Draws Game Board    \n",
    "def DrawBoard():    \n",
    "    print(\" %c | %c | %c \" % (board[1],board[2],board[3]))    \n",
    "    print(\"___|___|___\")    \n",
    "    print(\" %c | %c | %c \" % (board[4],board[5],board[6]))    \n",
    "    print(\"___|___|___\")    \n",
    "    print(\" %c | %c | %c \" % (board[7],board[8],board[9]))    \n",
    "    print(\"   |   |   \")    \n",
    "   \n",
    "#Function Checks position is empty or not    \n",
    "def CheckPosition(x):    \n",
    "    if(board[x] == ' '):    \n",
    "        return True    \n",
    "    else:    \n",
    "        return False    \n",
    "   \n",
    "#Function Checks player has won or not    \n",
    "def CheckWin():    \n",
    "    global Game    \n",
    "    #Horizontal winning condition    \n",
    "    if(board[1] == board[2] and board[2] == board[3] and board[1] != ' '):    \n",
    "        Game = Win    \n",
    "    elif(board[4] == board[5] and board[5] == board[6] and board[4] != ' '):    \n",
    "        Game = Win    \n",
    "    elif(board[7] == board[8] and board[8] == board[9] and board[7] != ' '):    \n",
    "        Game = Win    \n",
    "    #Vertical Winning Condition    \n",
    "    elif(board[1] == board[4] and board[4] == board[7] and board[1] != ' '):    \n",
    "        Game = Win    \n",
    "    elif(board[2] == board[5] and board[5] == board[8] and board[2] != ' '):    \n",
    "        Game = Win    \n",
    "    elif(board[3] == board[6] and board[6] == board[9] and board[3] != ' '):    \n",
    "        Game=Win    \n",
    "    #Diagonal Winning Condition    \n",
    "    elif(board[1] == board[5] and board[5] == board[9] and board[5] != ' '):    \n",
    "        Game = Win    \n",
    "    elif(board[3] == board[5] and board[5] == board[7] and board[5] != ' '):    \n",
    "        Game=Win    \n",
    "    #Match Tie or Draw Condition    \n",
    "    elif(board[1]!=' ' and board[2]!=' ' and board[3]!=' ' and board[4]!=' ' and board[5]!=' ' and board[6]!=' ' and board[7]!=' ' and board[8]!=' ' and board[9]!=' '):    \n",
    "        Game=Draw    \n",
    "    else:            \n",
    "        Game=Running    \n",
    "    \n",
    "printmd(\"Tic-Tac-Toe Game: Designed By Rahul\")    \n",
    "printmd(\"Player 1  --- Player 2 \\n\")    \n",
    "print()    \n",
    "print()  \n",
    "while(play == 'Y'):\n",
    "    \n",
    "    Symbol = input(\"Choose mark 'X' or 'O' for Player - 1 : \")\n",
    "    if(Symbol == 'X'):\n",
    "        S1='X'\n",
    "        S2='O'\n",
    "    else:\n",
    "        S1='O'\n",
    "        S2='X'\n",
    "    Ini()\n",
    "    while(Game == Running):    \n",
    "        DrawBoard()    \n",
    "        if(player % 2 != 0):    \n",
    "            printmd(\"Player 1's  chance \")    \n",
    "            Mark = S1    \n",
    "        else:    \n",
    "            printmd(\"Player 2's  chance \")    \n",
    "            Mark = S2    \n",
    "        choice = int(input(\"Enter the position between [1-9] where you want to mark : \"))    \n",
    "        if(choice>0 and choice<10):\n",
    "            if(CheckPosition(choice)):    \n",
    "                board[choice] = Mark    \n",
    "                player+=1    \n",
    "                CheckWin()\n",
    "            else:\n",
    "                printmd(\"\\t\\t!!Place Already Occupied!!\")\n",
    "                printmd(\"\\t\\t  TRY AGAIN\")\n",
    "        else:\n",
    "            printmd(\"\\t!!Invlaid Input!!\\n\")\n",
    "            print(\"\\t  Try Again \\n\")\n",
    "    DrawBoard()    \n",
    "    if(Game==Draw):    \n",
    "        print(\"Game Draw\")    \n",
    "    elif(Game==Win):    \n",
    "        player-=1    \n",
    "        if(player%2!=0):    \n",
    "            printmd(\"**Player 1 Won**\")    \n",
    "        else:    \n",
    "            printmd(\"**Player 2 Won**\")\n",
    "    print()\n",
    "    play = input(\"To play agian enter 'Y' else 'N' : \")"
   ]
  },
  {
   "cell_type": "code",
   "execution_count": null,
   "metadata": {},
   "outputs": [],
   "source": []
  },
  {
   "cell_type": "code",
   "execution_count": null,
   "metadata": {},
   "outputs": [],
   "source": []
  }
 ],
 "metadata": {
  "kernelspec": {
   "display_name": "Python 3",
   "language": "python",
   "name": "python3"
  },
  "language_info": {
   "codemirror_mode": {
    "name": "ipython",
    "version": 3
   },
   "file_extension": ".py",
   "mimetype": "text/x-python",
   "name": "python",
   "nbconvert_exporter": "python",
   "pygments_lexer": "ipython3",
   "version": "3.7.3"
  }
 },
 "nbformat": 4,
 "nbformat_minor": 2
}
